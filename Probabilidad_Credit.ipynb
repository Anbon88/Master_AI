{
  "cells": [
    {
      "cell_type": "markdown",
      "id": "60d958a7",
      "metadata": {
        "id": "60d958a7"
      },
      "source": [
        "##Ejercicio 1. Probabilidad \n",
        "\n",
        "\n",
        "Esta tarea consiste en analizar el dataset 'credit.csv', que contiene un conjunto de datos sobre impagos en créditos bancarios. \n",
        "El dataset contiene una serie de variables numéricos, otras categóricas y la variable impago ('default').\n",
        "\n",
        "Sobre este dataset tenéis que calcular:\n",
        "\n",
        "\n",
        "\n",
        "*   Probabilidad de impago, P(default=2)\n",
        "*   Probabilidad de impago condicionado a la variable 'housing' (considerad todos los valores de la variable)\n",
        "\n",
        "\n",
        "*   Probabilidad de impago condicionado a las variables 'dependents'=2 y 'telephone'='none'\n",
        "*   Probabilidad de impago condicionado a las variables 'dependents'=1, 'telephone'='yes' y 'personal_status'='female'\n",
        "\n",
        "\n",
        "\n",
        "*   Además, debéis comprobar si las variables 'housing' y 'property' son independientes.\n",
        "\n",
        "\n",
        "Debéis realizar la tarea en un Notebook de Jupyter, que debéis entregar ejecutado y sin errores en formato HTML."
      ]
    },
    {
      "cell_type": "code",
      "execution_count": null,
      "id": "84498d7f",
      "metadata": {
        "id": "84498d7f"
      },
      "outputs": [],
      "source": [
        "import numpy as np\n",
        "from pandas import Series, DataFrame\n",
        "import pandas as pd"
      ]
    },
    {
      "cell_type": "code",
      "execution_count": null,
      "id": "0e0acb0c",
      "metadata": {
        "id": "0e0acb0c"
      },
      "outputs": [],
      "source": [
        "#Cargo el dataset 'credit.csv'\n",
        "\n",
        "Credit_df=pd.read_csv('credit.csv')"
      ]
    },
    {
      "cell_type": "code",
      "execution_count": null,
      "id": "0b375db4",
      "metadata": {
        "scrolled": true,
        "id": "0b375db4",
        "outputId": "fc9ddd1a-302a-437b-a42d-831a5f4c06a6"
      },
      "outputs": [
        {
          "data": {
            "text/html": [
              "<div>\n",
              "<style scoped>\n",
              "    .dataframe tbody tr th:only-of-type {\n",
              "        vertical-align: middle;\n",
              "    }\n",
              "\n",
              "    .dataframe tbody tr th {\n",
              "        vertical-align: top;\n",
              "    }\n",
              "\n",
              "    .dataframe thead th {\n",
              "        text-align: right;\n",
              "    }\n",
              "</style>\n",
              "<table border=\"1\" class=\"dataframe\">\n",
              "  <thead>\n",
              "    <tr style=\"text-align: right;\">\n",
              "      <th></th>\n",
              "      <th>checking_balance</th>\n",
              "      <th>months_loan_duration</th>\n",
              "      <th>credit_history</th>\n",
              "      <th>purpose</th>\n",
              "      <th>amount</th>\n",
              "      <th>savings_balance</th>\n",
              "      <th>employment_length</th>\n",
              "      <th>installment_rate</th>\n",
              "      <th>personal_status</th>\n",
              "      <th>other_debtors</th>\n",
              "      <th>...</th>\n",
              "      <th>property</th>\n",
              "      <th>age</th>\n",
              "      <th>installment_plan</th>\n",
              "      <th>housing</th>\n",
              "      <th>existing_credits</th>\n",
              "      <th>default</th>\n",
              "      <th>dependents</th>\n",
              "      <th>telephone</th>\n",
              "      <th>foreign_worker</th>\n",
              "      <th>job</th>\n",
              "    </tr>\n",
              "  </thead>\n",
              "  <tbody>\n",
              "    <tr>\n",
              "      <th>0</th>\n",
              "      <td>&lt; 0 DM</td>\n",
              "      <td>6</td>\n",
              "      <td>critical</td>\n",
              "      <td>radio/tv</td>\n",
              "      <td>1169</td>\n",
              "      <td>unknown</td>\n",
              "      <td>&gt; 7 yrs</td>\n",
              "      <td>4</td>\n",
              "      <td>single male</td>\n",
              "      <td>none</td>\n",
              "      <td>...</td>\n",
              "      <td>real estate</td>\n",
              "      <td>67</td>\n",
              "      <td>none</td>\n",
              "      <td>own</td>\n",
              "      <td>2</td>\n",
              "      <td>1</td>\n",
              "      <td>1</td>\n",
              "      <td>yes</td>\n",
              "      <td>yes</td>\n",
              "      <td>skilled employee</td>\n",
              "    </tr>\n",
              "    <tr>\n",
              "      <th>1</th>\n",
              "      <td>1 - 200 DM</td>\n",
              "      <td>48</td>\n",
              "      <td>repaid</td>\n",
              "      <td>radio/tv</td>\n",
              "      <td>5951</td>\n",
              "      <td>&lt; 100 DM</td>\n",
              "      <td>1 - 4 yrs</td>\n",
              "      <td>2</td>\n",
              "      <td>female</td>\n",
              "      <td>none</td>\n",
              "      <td>...</td>\n",
              "      <td>real estate</td>\n",
              "      <td>22</td>\n",
              "      <td>none</td>\n",
              "      <td>own</td>\n",
              "      <td>1</td>\n",
              "      <td>2</td>\n",
              "      <td>1</td>\n",
              "      <td>none</td>\n",
              "      <td>yes</td>\n",
              "      <td>skilled employee</td>\n",
              "    </tr>\n",
              "    <tr>\n",
              "      <th>2</th>\n",
              "      <td>unknown</td>\n",
              "      <td>12</td>\n",
              "      <td>critical</td>\n",
              "      <td>education</td>\n",
              "      <td>2096</td>\n",
              "      <td>&lt; 100 DM</td>\n",
              "      <td>4 - 7 yrs</td>\n",
              "      <td>2</td>\n",
              "      <td>single male</td>\n",
              "      <td>none</td>\n",
              "      <td>...</td>\n",
              "      <td>real estate</td>\n",
              "      <td>49</td>\n",
              "      <td>none</td>\n",
              "      <td>own</td>\n",
              "      <td>1</td>\n",
              "      <td>1</td>\n",
              "      <td>2</td>\n",
              "      <td>none</td>\n",
              "      <td>yes</td>\n",
              "      <td>unskilled resident</td>\n",
              "    </tr>\n",
              "    <tr>\n",
              "      <th>3</th>\n",
              "      <td>&lt; 0 DM</td>\n",
              "      <td>42</td>\n",
              "      <td>repaid</td>\n",
              "      <td>furniture</td>\n",
              "      <td>7882</td>\n",
              "      <td>&lt; 100 DM</td>\n",
              "      <td>4 - 7 yrs</td>\n",
              "      <td>2</td>\n",
              "      <td>single male</td>\n",
              "      <td>guarantor</td>\n",
              "      <td>...</td>\n",
              "      <td>building society savings</td>\n",
              "      <td>45</td>\n",
              "      <td>none</td>\n",
              "      <td>for free</td>\n",
              "      <td>1</td>\n",
              "      <td>1</td>\n",
              "      <td>2</td>\n",
              "      <td>none</td>\n",
              "      <td>yes</td>\n",
              "      <td>skilled employee</td>\n",
              "    </tr>\n",
              "    <tr>\n",
              "      <th>4</th>\n",
              "      <td>&lt; 0 DM</td>\n",
              "      <td>24</td>\n",
              "      <td>delayed</td>\n",
              "      <td>car (new)</td>\n",
              "      <td>4870</td>\n",
              "      <td>&lt; 100 DM</td>\n",
              "      <td>1 - 4 yrs</td>\n",
              "      <td>3</td>\n",
              "      <td>single male</td>\n",
              "      <td>none</td>\n",
              "      <td>...</td>\n",
              "      <td>unknown/none</td>\n",
              "      <td>53</td>\n",
              "      <td>none</td>\n",
              "      <td>for free</td>\n",
              "      <td>2</td>\n",
              "      <td>2</td>\n",
              "      <td>2</td>\n",
              "      <td>none</td>\n",
              "      <td>yes</td>\n",
              "      <td>skilled employee</td>\n",
              "    </tr>\n",
              "  </tbody>\n",
              "</table>\n",
              "<p>5 rows × 21 columns</p>\n",
              "</div>"
            ],
            "text/plain": [
              "  checking_balance  months_loan_duration credit_history    purpose  amount  \\\n",
              "0           < 0 DM                     6       critical   radio/tv    1169   \n",
              "1       1 - 200 DM                    48         repaid   radio/tv    5951   \n",
              "2          unknown                    12       critical  education    2096   \n",
              "3           < 0 DM                    42         repaid  furniture    7882   \n",
              "4           < 0 DM                    24        delayed  car (new)    4870   \n",
              "\n",
              "  savings_balance employment_length  installment_rate personal_status  \\\n",
              "0         unknown           > 7 yrs                 4     single male   \n",
              "1        < 100 DM         1 - 4 yrs                 2          female   \n",
              "2        < 100 DM         4 - 7 yrs                 2     single male   \n",
              "3        < 100 DM         4 - 7 yrs                 2     single male   \n",
              "4        < 100 DM         1 - 4 yrs                 3     single male   \n",
              "\n",
              "  other_debtors  ...                  property age  installment_plan  \\\n",
              "0          none  ...               real estate  67              none   \n",
              "1          none  ...               real estate  22              none   \n",
              "2          none  ...               real estate  49              none   \n",
              "3     guarantor  ...  building society savings  45              none   \n",
              "4          none  ...              unknown/none  53              none   \n",
              "\n",
              "    housing existing_credits  default  dependents  telephone foreign_worker  \\\n",
              "0       own                2        1           1        yes            yes   \n",
              "1       own                1        2           1       none            yes   \n",
              "2       own                1        1           2       none            yes   \n",
              "3  for free                1        1           2       none            yes   \n",
              "4  for free                2        2           2       none            yes   \n",
              "\n",
              "                  job  \n",
              "0    skilled employee  \n",
              "1    skilled employee  \n",
              "2  unskilled resident  \n",
              "3    skilled employee  \n",
              "4    skilled employee  \n",
              "\n",
              "[5 rows x 21 columns]"
            ]
          },
          "execution_count": 3,
          "metadata": {},
          "output_type": "execute_result"
        }
      ],
      "source": [
        "#Muestro las primeras líneas para ver la estructura del fichero\n",
        "\n",
        "Credit_df.head()"
      ]
    },
    {
      "cell_type": "markdown",
      "id": "30e179d0",
      "metadata": {
        "id": "30e179d0"
      },
      "source": [
        "#### Probabilidad de impago, P(default=2)"
      ]
    },
    {
      "cell_type": "code",
      "execution_count": null,
      "id": "ad9cf70d",
      "metadata": {
        "id": "ad9cf70d",
        "outputId": "c997adf2-00aa-4839-9969-5c5082880d12"
      },
      "outputs": [
        {
          "name": "stdout",
          "output_type": "stream",
          "text": [
            "1    700\n",
            "2    300\n",
            "Name: default, dtype: int64\n"
          ]
        }
      ],
      "source": [
        "#En primer lugar cuento cuantos valores de impago tengo \n",
        "Def=Credit_df['default'].value_counts()\n",
        "print(Def)\n",
        "\n",
        "Def1=Def[1] \n",
        "Def2=Def[2]\n"
      ]
    },
    {
      "cell_type": "code",
      "execution_count": null,
      "id": "5d7a9d4c",
      "metadata": {
        "id": "5d7a9d4c",
        "outputId": "271842c0-bc79-4a29-d332-85933593ef5a"
      },
      "outputs": [
        {
          "data": {
            "text/plain": [
              "1000"
            ]
          },
          "execution_count": 5,
          "metadata": {},
          "output_type": "execute_result"
        }
      ],
      "source": [
        "N=len(Credit_df)\n",
        "N"
      ]
    },
    {
      "cell_type": "code",
      "execution_count": null,
      "id": "c2313d94",
      "metadata": {
        "id": "c2313d94",
        "outputId": "cfb6b654-2b25-4e79-ac59-aa094eb6fd2e"
      },
      "outputs": [
        {
          "data": {
            "text/plain": [
              "0.3"
            ]
          },
          "execution_count": 6,
          "metadata": {},
          "output_type": "execute_result"
        }
      ],
      "source": [
        "#P(default=2)\n",
        "\n",
        "P_default2=Def2/N\n",
        "P_default2\n",
        "\n",
        "#Obtengo una probabilidad de default del 30%"
      ]
    },
    {
      "cell_type": "markdown",
      "id": "cefd4059",
      "metadata": {
        "id": "cefd4059"
      },
      "source": [
        "#### Probabilidad de impago condicionado a la variable 'housing' (considerad todos los valores de la variable)\n",
        "\n",
        "Por la regla de la cadena:  \n",
        "$P(default2|housing)=\\frac{P(default2,housing)}{P(housing)}$  "
      ]
    },
    {
      "cell_type": "code",
      "execution_count": null,
      "id": "c0ae48e2",
      "metadata": {
        "id": "c0ae48e2",
        "outputId": "ab54a865-8c8b-4bf4-8fd8-1a21930145c6"
      },
      "outputs": [
        {
          "data": {
            "text/plain": [
              "own         713\n",
              "rent        179\n",
              "for free    108\n",
              "Name: housing, dtype: int64"
            ]
          },
          "execution_count": 7,
          "metadata": {},
          "output_type": "execute_result"
        }
      ],
      "source": [
        "House=Credit_df['housing'].value_counts()\n",
        "House"
      ]
    },
    {
      "cell_type": "code",
      "execution_count": null,
      "id": "8a95ae9f",
      "metadata": {
        "scrolled": false,
        "id": "8a95ae9f",
        "outputId": "88fa0af7-bd54-454b-8f06-5d09c157520c"
      },
      "outputs": [
        {
          "data": {
            "text/html": [
              "<div>\n",
              "<style scoped>\n",
              "    .dataframe tbody tr th:only-of-type {\n",
              "        vertical-align: middle;\n",
              "    }\n",
              "\n",
              "    .dataframe tbody tr th {\n",
              "        vertical-align: top;\n",
              "    }\n",
              "\n",
              "    .dataframe thead th {\n",
              "        text-align: right;\n",
              "    }\n",
              "</style>\n",
              "<table border=\"1\" class=\"dataframe\">\n",
              "  <thead>\n",
              "    <tr style=\"text-align: right;\">\n",
              "      <th>housing</th>\n",
              "      <th>for free</th>\n",
              "      <th>own</th>\n",
              "      <th>rent</th>\n",
              "    </tr>\n",
              "    <tr>\n",
              "      <th>default</th>\n",
              "      <th></th>\n",
              "      <th></th>\n",
              "      <th></th>\n",
              "    </tr>\n",
              "  </thead>\n",
              "  <tbody>\n",
              "    <tr>\n",
              "      <th>1</th>\n",
              "      <td>64</td>\n",
              "      <td>527</td>\n",
              "      <td>109</td>\n",
              "    </tr>\n",
              "    <tr>\n",
              "      <th>2</th>\n",
              "      <td>44</td>\n",
              "      <td>186</td>\n",
              "      <td>70</td>\n",
              "    </tr>\n",
              "  </tbody>\n",
              "</table>\n",
              "</div>"
            ],
            "text/plain": [
              "housing  for free  own  rent\n",
              "default                     \n",
              "1              64  527   109\n",
              "2              44  186    70"
            ]
          },
          "execution_count": 8,
          "metadata": {},
          "output_type": "execute_result"
        }
      ],
      "source": [
        "#Tabla de contingencia: default por housing\n",
        "Tab_def_hous = pd.crosstab(index=Credit_df['default'], columns=Credit_df['housing'])\n",
        "Tab_def_hous"
      ]
    },
    {
      "cell_type": "code",
      "execution_count": null,
      "id": "336bf4bb",
      "metadata": {
        "id": "336bf4bb",
        "outputId": "cb512e43-1192-40fb-f64b-757b5d85fb58"
      },
      "outputs": [
        {
          "data": {
            "text/html": [
              "<div>\n",
              "<style scoped>\n",
              "    .dataframe tbody tr th:only-of-type {\n",
              "        vertical-align: middle;\n",
              "    }\n",
              "\n",
              "    .dataframe tbody tr th {\n",
              "        vertical-align: top;\n",
              "    }\n",
              "\n",
              "    .dataframe thead th {\n",
              "        text-align: right;\n",
              "    }\n",
              "</style>\n",
              "<table border=\"1\" class=\"dataframe\">\n",
              "  <thead>\n",
              "    <tr style=\"text-align: right;\">\n",
              "      <th></th>\n",
              "      <th>for free</th>\n",
              "      <th>own</th>\n",
              "      <th>rent</th>\n",
              "    </tr>\n",
              "    <tr>\n",
              "      <th>default</th>\n",
              "      <th></th>\n",
              "      <th></th>\n",
              "      <th></th>\n",
              "    </tr>\n",
              "  </thead>\n",
              "  <tbody>\n",
              "    <tr>\n",
              "      <th>1</th>\n",
              "      <td>0.592593</td>\n",
              "      <td>0.73913</td>\n",
              "      <td>0.608939</td>\n",
              "    </tr>\n",
              "    <tr>\n",
              "      <th>2</th>\n",
              "      <td>0.407407</td>\n",
              "      <td>0.26087</td>\n",
              "      <td>0.391061</td>\n",
              "    </tr>\n",
              "  </tbody>\n",
              "</table>\n",
              "</div>"
            ],
            "text/plain": [
              "         for free      own      rent\n",
              "default                             \n",
              "1        0.592593  0.73913  0.608939\n",
              "2        0.407407  0.26087  0.391061"
            ]
          },
          "execution_count": 9,
          "metadata": {},
          "output_type": "execute_result"
        }
      ],
      "source": [
        "#Normalizo a probabilidades\n",
        "Tab_def_hous_frec = Tab_def_hous / House\n",
        "Tab_def_hous_frec"
      ]
    },
    {
      "cell_type": "code",
      "execution_count": null,
      "id": "b9044d71",
      "metadata": {
        "id": "b9044d71",
        "outputId": "5f11fc7e-33da-4bd9-bfe9-8402f4c9ac75"
      },
      "outputs": [
        {
          "data": {
            "text/plain": [
              "for free    0.407407\n",
              "own         0.260870\n",
              "rent        0.391061\n",
              "Name: 2, dtype: float64"
            ]
          },
          "execution_count": 10,
          "metadata": {},
          "output_type": "execute_result"
        }
      ],
      "source": [
        "#La probabilidad de impago condicionado a la variable 'housing' (considerad todos los valores de la variable) es:\n",
        "Tab_def_hous_frec.loc[2]"
      ]
    },
    {
      "cell_type": "code",
      "execution_count": null,
      "id": "efe84b6a",
      "metadata": {
        "id": "efe84b6a",
        "outputId": "a186cd2e-58b5-4406-d4f9-47cb986784c8"
      },
      "outputs": [
        {
          "data": {
            "text/plain": [
              "for free    40.740741\n",
              "own         26.086957\n",
              "rent        39.106145\n",
              "Name: 2, dtype: float64"
            ]
          },
          "execution_count": 11,
          "metadata": {},
          "output_type": "execute_result"
        }
      ],
      "source": [
        "#Si quiero ver la probabilidad en %\n",
        "Tab_def_hous_frec.loc[2]*100\n",
        "\n",
        "#P(default2|housing=for free)= 40.74%\n",
        "#P(default2|housing=own)= 26.09%\n",
        "#P(default2|housing=rent)= 39.11%"
      ]
    },
    {
      "cell_type": "markdown",
      "id": "1273dc0d",
      "metadata": {
        "id": "1273dc0d"
      },
      "source": [
        "#### Probabilidad de impago condicionado a las variables 'dependents'=2 y 'telephone'='none'\n",
        "\n",
        "Por la regla de la cadena:  \n",
        "$P(default2|dependents=2,telephone=none)=\\frac{P(default2,dependents=2,telephone=none)}{P(dependents=2,telephone=none)}$  "
      ]
    },
    {
      "cell_type": "code",
      "execution_count": null,
      "id": "6bf7322d",
      "metadata": {
        "id": "6bf7322d",
        "outputId": "6f95ea95-bf39-4a5a-c691-002353d4c055"
      },
      "outputs": [
        {
          "data": {
            "text/html": [
              "<div>\n",
              "<style scoped>\n",
              "    .dataframe tbody tr th:only-of-type {\n",
              "        vertical-align: middle;\n",
              "    }\n",
              "\n",
              "    .dataframe tbody tr th {\n",
              "        vertical-align: top;\n",
              "    }\n",
              "\n",
              "    .dataframe thead tr th {\n",
              "        text-align: left;\n",
              "    }\n",
              "\n",
              "    .dataframe thead tr:last-of-type th {\n",
              "        text-align: right;\n",
              "    }\n",
              "</style>\n",
              "<table border=\"1\" class=\"dataframe\">\n",
              "  <thead>\n",
              "    <tr>\n",
              "      <th>dependents</th>\n",
              "      <th colspan=\"2\" halign=\"left\">1</th>\n",
              "      <th colspan=\"2\" halign=\"left\">2</th>\n",
              "    </tr>\n",
              "    <tr>\n",
              "      <th>telephone</th>\n",
              "      <th>none</th>\n",
              "      <th>yes</th>\n",
              "      <th>none</th>\n",
              "      <th>yes</th>\n",
              "    </tr>\n",
              "    <tr>\n",
              "      <th>default</th>\n",
              "      <th></th>\n",
              "      <th></th>\n",
              "      <th></th>\n",
              "      <th></th>\n",
              "    </tr>\n",
              "  </thead>\n",
              "  <tbody>\n",
              "    <tr>\n",
              "      <th>1</th>\n",
              "      <td>349</td>\n",
              "      <td>242</td>\n",
              "      <td>60</td>\n",
              "      <td>49</td>\n",
              "    </tr>\n",
              "    <tr>\n",
              "      <th>2</th>\n",
              "      <td>152</td>\n",
              "      <td>102</td>\n",
              "      <td>35</td>\n",
              "      <td>11</td>\n",
              "    </tr>\n",
              "  </tbody>\n",
              "</table>\n",
              "</div>"
            ],
            "text/plain": [
              "dependents    1         2    \n",
              "telephone  none  yes none yes\n",
              "default                      \n",
              "1           349  242   60  49\n",
              "2           152  102   35  11"
            ]
          },
          "execution_count": 12,
          "metadata": {},
          "output_type": "execute_result"
        }
      ],
      "source": [
        "#Tabla de contingencia multi-index\n",
        "Tab_def_dep_tel = pd.crosstab(index=[Credit_df['default']], columns=[Credit_df['dependents'],Credit_df['telephone']])\n",
        "Tab_def_dep_tel"
      ]
    },
    {
      "cell_type": "code",
      "execution_count": null,
      "id": "73eda737",
      "metadata": {
        "id": "73eda737",
        "outputId": "81a51d8c-709f-4142-ed79-e41850783577"
      },
      "outputs": [
        {
          "data": {
            "text/html": [
              "<div>\n",
              "<style scoped>\n",
              "    .dataframe tbody tr th:only-of-type {\n",
              "        vertical-align: middle;\n",
              "    }\n",
              "\n",
              "    .dataframe tbody tr th {\n",
              "        vertical-align: top;\n",
              "    }\n",
              "\n",
              "    .dataframe thead tr th {\n",
              "        text-align: left;\n",
              "    }\n",
              "\n",
              "    .dataframe thead tr:last-of-type th {\n",
              "        text-align: right;\n",
              "    }\n",
              "</style>\n",
              "<table border=\"1\" class=\"dataframe\">\n",
              "  <thead>\n",
              "    <tr>\n",
              "      <th>dependents</th>\n",
              "      <th colspan=\"2\" halign=\"left\">1</th>\n",
              "      <th colspan=\"2\" halign=\"left\">2</th>\n",
              "    </tr>\n",
              "    <tr>\n",
              "      <th>telephone</th>\n",
              "      <th>none</th>\n",
              "      <th>yes</th>\n",
              "      <th>none</th>\n",
              "      <th>yes</th>\n",
              "    </tr>\n",
              "    <tr>\n",
              "      <th>default</th>\n",
              "      <th></th>\n",
              "      <th></th>\n",
              "      <th></th>\n",
              "      <th></th>\n",
              "    </tr>\n",
              "  </thead>\n",
              "  <tbody>\n",
              "    <tr>\n",
              "      <th>1</th>\n",
              "      <td>0.696607</td>\n",
              "      <td>0.703488</td>\n",
              "      <td>0.631579</td>\n",
              "      <td>0.816667</td>\n",
              "    </tr>\n",
              "    <tr>\n",
              "      <th>2</th>\n",
              "      <td>0.303393</td>\n",
              "      <td>0.296512</td>\n",
              "      <td>0.368421</td>\n",
              "      <td>0.183333</td>\n",
              "    </tr>\n",
              "  </tbody>\n",
              "</table>\n",
              "</div>"
            ],
            "text/plain": [
              "dependents         1                   2          \n",
              "telephone       none       yes      none       yes\n",
              "default                                           \n",
              "1           0.696607  0.703488  0.631579  0.816667\n",
              "2           0.303393  0.296512  0.368421  0.183333"
            ]
          },
          "execution_count": 13,
          "metadata": {},
          "output_type": "execute_result"
        }
      ],
      "source": [
        "#Normalizo a probabilidades\n",
        "Tab_def_dep_tel_frec = Tab_def_dep_tel / Tab_def_dep_tel.sum()\n",
        "Tab_def_dep_tel_frec"
      ]
    },
    {
      "cell_type": "code",
      "execution_count": null,
      "id": "b27f0eeb",
      "metadata": {
        "id": "b27f0eeb",
        "outputId": "e277041a-0647-42ac-f5a0-eb84ddc3c193"
      },
      "outputs": [
        {
          "data": {
            "text/plain": [
              "0.3684210526315789"
            ]
          },
          "execution_count": 14,
          "metadata": {},
          "output_type": "execute_result"
        }
      ],
      "source": [
        "#P(default2|dependents=2,telephone=none)\n",
        "Tab_def_dep_tel_frec.loc[2,(2, 'none')]\n",
        "\n",
        "#Podemos considerar un valor de 36.84%"
      ]
    },
    {
      "cell_type": "markdown",
      "id": "c25c54d2",
      "metadata": {
        "id": "c25c54d2"
      },
      "source": [
        "#### Probabilidad de impago condicionado a las variables 'dependents'=1, 'telephone'='yes' y 'personal_status'='female'"
      ]
    },
    {
      "cell_type": "code",
      "execution_count": null,
      "id": "45c5aa77",
      "metadata": {
        "id": "45c5aa77",
        "outputId": "5a53e906-a198-4be4-dd0e-bebc8f32b736"
      },
      "outputs": [
        {
          "data": {
            "text/html": [
              "<div>\n",
              "<style scoped>\n",
              "    .dataframe tbody tr th:only-of-type {\n",
              "        vertical-align: middle;\n",
              "    }\n",
              "\n",
              "    .dataframe tbody tr th {\n",
              "        vertical-align: top;\n",
              "    }\n",
              "\n",
              "    .dataframe thead tr th {\n",
              "        text-align: left;\n",
              "    }\n",
              "\n",
              "    .dataframe thead tr:last-of-type th {\n",
              "        text-align: right;\n",
              "    }\n",
              "</style>\n",
              "<table border=\"1\" class=\"dataframe\">\n",
              "  <thead>\n",
              "    <tr>\n",
              "      <th>dependents</th>\n",
              "      <th colspan=\"8\" halign=\"left\">1</th>\n",
              "      <th colspan=\"8\" halign=\"left\">2</th>\n",
              "    </tr>\n",
              "    <tr>\n",
              "      <th>telephone</th>\n",
              "      <th colspan=\"4\" halign=\"left\">none</th>\n",
              "      <th colspan=\"4\" halign=\"left\">yes</th>\n",
              "      <th colspan=\"4\" halign=\"left\">none</th>\n",
              "      <th colspan=\"4\" halign=\"left\">yes</th>\n",
              "    </tr>\n",
              "    <tr>\n",
              "      <th>personal_status</th>\n",
              "      <th>divorced male</th>\n",
              "      <th>female</th>\n",
              "      <th>married male</th>\n",
              "      <th>single male</th>\n",
              "      <th>divorced male</th>\n",
              "      <th>female</th>\n",
              "      <th>married male</th>\n",
              "      <th>single male</th>\n",
              "      <th>divorced male</th>\n",
              "      <th>female</th>\n",
              "      <th>married male</th>\n",
              "      <th>single male</th>\n",
              "      <th>divorced male</th>\n",
              "      <th>female</th>\n",
              "      <th>married male</th>\n",
              "      <th>single male</th>\n",
              "    </tr>\n",
              "    <tr>\n",
              "      <th>default</th>\n",
              "      <th></th>\n",
              "      <th></th>\n",
              "      <th></th>\n",
              "      <th></th>\n",
              "      <th></th>\n",
              "      <th></th>\n",
              "      <th></th>\n",
              "      <th></th>\n",
              "      <th></th>\n",
              "      <th></th>\n",
              "      <th></th>\n",
              "      <th></th>\n",
              "      <th></th>\n",
              "      <th></th>\n",
              "      <th></th>\n",
              "      <th></th>\n",
              "    </tr>\n",
              "  </thead>\n",
              "  <tbody>\n",
              "    <tr>\n",
              "      <th>1</th>\n",
              "      <td>14</td>\n",
              "      <td>123</td>\n",
              "      <td>43</td>\n",
              "      <td>169</td>\n",
              "      <td>13</td>\n",
              "      <td>70</td>\n",
              "      <td>23</td>\n",
              "      <td>136</td>\n",
              "      <td>2</td>\n",
              "      <td>5</td>\n",
              "      <td>0</td>\n",
              "      <td>53</td>\n",
              "      <td>1</td>\n",
              "      <td>3</td>\n",
              "      <td>1</td>\n",
              "      <td>44</td>\n",
              "    </tr>\n",
              "    <tr>\n",
              "      <th>2</th>\n",
              "      <td>12</td>\n",
              "      <td>69</td>\n",
              "      <td>15</td>\n",
              "      <td>56</td>\n",
              "      <td>8</td>\n",
              "      <td>34</td>\n",
              "      <td>9</td>\n",
              "      <td>51</td>\n",
              "      <td>0</td>\n",
              "      <td>5</td>\n",
              "      <td>1</td>\n",
              "      <td>29</td>\n",
              "      <td>0</td>\n",
              "      <td>1</td>\n",
              "      <td>0</td>\n",
              "      <td>10</td>\n",
              "    </tr>\n",
              "  </tbody>\n",
              "</table>\n",
              "</div>"
            ],
            "text/plain": [
              "dependents                  1                                                \\\n",
              "telephone                none                                           yes   \n",
              "personal_status divorced male female married male single male divorced male   \n",
              "default                                                                       \n",
              "1                          14    123           43         169            13   \n",
              "2                          12     69           15          56             8   \n",
              "\n",
              "dependents                                                  2         \\\n",
              "telephone                                                none          \n",
              "personal_status female married male single male divorced male female   \n",
              "default                                                                \n",
              "1                   70           23         136             2      5   \n",
              "2                   34            9          51             0      5   \n",
              "\n",
              "dependents                                                                  \\\n",
              "telephone                                          yes                       \n",
              "personal_status married male single male divorced male female married male   \n",
              "default                                                                      \n",
              "1                          0          53             1      3            1   \n",
              "2                          1          29             0      1            0   \n",
              "\n",
              "dependents                   \n",
              "telephone                    \n",
              "personal_status single male  \n",
              "default                      \n",
              "1                        44  \n",
              "2                        10  "
            ]
          },
          "execution_count": 15,
          "metadata": {},
          "output_type": "execute_result"
        }
      ],
      "source": [
        "#Sigo la misma lógica que antes\n",
        "\n",
        "#Tabla de contingencia multi-index\n",
        "Tab_def_dep_tel_pers = pd.crosstab(index=[Credit_df['default']], columns=[Credit_df['dependents'],Credit_df['telephone'],Credit_df['personal_status']])\n",
        "Tab_def_dep_tel_pers"
      ]
    },
    {
      "cell_type": "code",
      "execution_count": null,
      "id": "42dbb1d2",
      "metadata": {
        "id": "42dbb1d2",
        "outputId": "e25dfe7c-f24e-4137-9898-85d73df96d9b"
      },
      "outputs": [
        {
          "data": {
            "text/html": [
              "<div>\n",
              "<style scoped>\n",
              "    .dataframe tbody tr th:only-of-type {\n",
              "        vertical-align: middle;\n",
              "    }\n",
              "\n",
              "    .dataframe tbody tr th {\n",
              "        vertical-align: top;\n",
              "    }\n",
              "\n",
              "    .dataframe thead tr th {\n",
              "        text-align: left;\n",
              "    }\n",
              "\n",
              "    .dataframe thead tr:last-of-type th {\n",
              "        text-align: right;\n",
              "    }\n",
              "</style>\n",
              "<table border=\"1\" class=\"dataframe\">\n",
              "  <thead>\n",
              "    <tr>\n",
              "      <th>dependents</th>\n",
              "      <th colspan=\"8\" halign=\"left\">1</th>\n",
              "      <th colspan=\"8\" halign=\"left\">2</th>\n",
              "    </tr>\n",
              "    <tr>\n",
              "      <th>telephone</th>\n",
              "      <th colspan=\"4\" halign=\"left\">none</th>\n",
              "      <th colspan=\"4\" halign=\"left\">yes</th>\n",
              "      <th colspan=\"4\" halign=\"left\">none</th>\n",
              "      <th colspan=\"4\" halign=\"left\">yes</th>\n",
              "    </tr>\n",
              "    <tr>\n",
              "      <th>personal_status</th>\n",
              "      <th>divorced male</th>\n",
              "      <th>female</th>\n",
              "      <th>married male</th>\n",
              "      <th>single male</th>\n",
              "      <th>divorced male</th>\n",
              "      <th>female</th>\n",
              "      <th>married male</th>\n",
              "      <th>single male</th>\n",
              "      <th>divorced male</th>\n",
              "      <th>female</th>\n",
              "      <th>married male</th>\n",
              "      <th>single male</th>\n",
              "      <th>divorced male</th>\n",
              "      <th>female</th>\n",
              "      <th>married male</th>\n",
              "      <th>single male</th>\n",
              "    </tr>\n",
              "    <tr>\n",
              "      <th>default</th>\n",
              "      <th></th>\n",
              "      <th></th>\n",
              "      <th></th>\n",
              "      <th></th>\n",
              "      <th></th>\n",
              "      <th></th>\n",
              "      <th></th>\n",
              "      <th></th>\n",
              "      <th></th>\n",
              "      <th></th>\n",
              "      <th></th>\n",
              "      <th></th>\n",
              "      <th></th>\n",
              "      <th></th>\n",
              "      <th></th>\n",
              "      <th></th>\n",
              "    </tr>\n",
              "  </thead>\n",
              "  <tbody>\n",
              "    <tr>\n",
              "      <th>1</th>\n",
              "      <td>0.538462</td>\n",
              "      <td>0.640625</td>\n",
              "      <td>0.741379</td>\n",
              "      <td>0.751111</td>\n",
              "      <td>0.619048</td>\n",
              "      <td>0.673077</td>\n",
              "      <td>0.71875</td>\n",
              "      <td>0.727273</td>\n",
              "      <td>1.0</td>\n",
              "      <td>0.5</td>\n",
              "      <td>0.0</td>\n",
              "      <td>0.646341</td>\n",
              "      <td>1.0</td>\n",
              "      <td>0.75</td>\n",
              "      <td>1.0</td>\n",
              "      <td>0.814815</td>\n",
              "    </tr>\n",
              "    <tr>\n",
              "      <th>2</th>\n",
              "      <td>0.461538</td>\n",
              "      <td>0.359375</td>\n",
              "      <td>0.258621</td>\n",
              "      <td>0.248889</td>\n",
              "      <td>0.380952</td>\n",
              "      <td>0.326923</td>\n",
              "      <td>0.28125</td>\n",
              "      <td>0.272727</td>\n",
              "      <td>0.0</td>\n",
              "      <td>0.5</td>\n",
              "      <td>1.0</td>\n",
              "      <td>0.353659</td>\n",
              "      <td>0.0</td>\n",
              "      <td>0.25</td>\n",
              "      <td>0.0</td>\n",
              "      <td>0.185185</td>\n",
              "    </tr>\n",
              "  </tbody>\n",
              "</table>\n",
              "</div>"
            ],
            "text/plain": [
              "dependents                  1                                     \\\n",
              "telephone                none                                      \n",
              "personal_status divorced male    female married male single male   \n",
              "default                                                            \n",
              "1                    0.538462  0.640625     0.741379    0.751111   \n",
              "2                    0.461538  0.359375     0.258621    0.248889   \n",
              "\n",
              "dependents                                                        \\\n",
              "telephone                 yes                                      \n",
              "personal_status divorced male    female married male single male   \n",
              "default                                                            \n",
              "1                    0.619048  0.673077      0.71875    0.727273   \n",
              "2                    0.380952  0.326923      0.28125    0.272727   \n",
              "\n",
              "dependents                  2                                                \\\n",
              "telephone                none                                           yes   \n",
              "personal_status divorced male female married male single male divorced male   \n",
              "default                                                                       \n",
              "1                         1.0    0.5          0.0    0.646341           1.0   \n",
              "2                         0.0    0.5          1.0    0.353659           0.0   \n",
              "\n",
              "dependents                                       \n",
              "telephone                                        \n",
              "personal_status female married male single male  \n",
              "default                                          \n",
              "1                 0.75          1.0    0.814815  \n",
              "2                 0.25          0.0    0.185185  "
            ]
          },
          "execution_count": 16,
          "metadata": {},
          "output_type": "execute_result"
        }
      ],
      "source": [
        "#Normalizo a probabilidades\n",
        "Tab_def_dep_tel_pers = Tab_def_dep_tel_pers / Tab_def_dep_tel_pers.sum()\n",
        "Tab_def_dep_tel_pers"
      ]
    },
    {
      "cell_type": "code",
      "execution_count": null,
      "id": "f8215b47",
      "metadata": {
        "id": "f8215b47",
        "outputId": "4246f1c4-727a-4151-e825-8482734472b5"
      },
      "outputs": [
        {
          "data": {
            "text/plain": [
              "0.3269230769230769"
            ]
          },
          "execution_count": 17,
          "metadata": {},
          "output_type": "execute_result"
        }
      ],
      "source": [
        "#P(default2|dependents=1, telephone=yes, personal_status=female)\n",
        "Tab_def_dep_tel_pers.loc[2,(1, 'yes', 'female')]\n",
        "\n",
        "#Podemos considerar un valor de 32.69%"
      ]
    },
    {
      "cell_type": "markdown",
      "id": "1b24388d",
      "metadata": {
        "id": "1b24388d"
      },
      "source": [
        "#### Compruebo si las variables 'housing' y 'property' son independientes.\n",
        "\n",
        "Si lo son, debe cumplirse la igualdad $P(H,P)=P(H)*P(P)$  \n",
        "Lo compruebo para housing=own y property=real estate"
      ]
    },
    {
      "cell_type": "code",
      "execution_count": null,
      "id": "e551eb95",
      "metadata": {
        "id": "e551eb95",
        "outputId": "27474795-5e11-4396-b42f-e6e25981cb58"
      },
      "outputs": [
        {
          "name": "stdout",
          "output_type": "stream",
          "text": [
            "own         713\n",
            "rent        179\n",
            "for free    108\n",
            "Name: housing, dtype: int64\n"
          ]
        }
      ],
      "source": [
        "House=Credit_df['housing'].value_counts()\n",
        "print(House)"
      ]
    },
    {
      "cell_type": "code",
      "execution_count": null,
      "id": "e508ed0c",
      "metadata": {
        "id": "e508ed0c",
        "outputId": "fc4fcdb2-0801-4e87-9799-22d0f2025adf"
      },
      "outputs": [
        {
          "name": "stdout",
          "output_type": "stream",
          "text": [
            "other                       332\n",
            "real estate                 282\n",
            "building society savings    232\n",
            "unknown/none                154\n",
            "Name: property, dtype: int64\n"
          ]
        }
      ],
      "source": [
        "Prop=Credit_df['property'].value_counts()\n",
        "print(Prop)"
      ]
    },
    {
      "cell_type": "code",
      "execution_count": null,
      "id": "7387bd16",
      "metadata": {
        "id": "7387bd16",
        "outputId": "dbeb313a-5474-49af-c220-514be5100acc"
      },
      "outputs": [
        {
          "data": {
            "text/plain": [
              "0.713"
            ]
          },
          "execution_count": 20,
          "metadata": {},
          "output_type": "execute_result"
        }
      ],
      "source": [
        "#P(H)\n",
        "P_house = House['own']/N\n",
        "P_house"
      ]
    },
    {
      "cell_type": "code",
      "execution_count": null,
      "id": "c436944b",
      "metadata": {
        "id": "c436944b",
        "outputId": "d84cea4e-96d2-4548-fe44-edefea92efa6"
      },
      "outputs": [
        {
          "data": {
            "text/plain": [
              "0.282"
            ]
          },
          "execution_count": 21,
          "metadata": {},
          "output_type": "execute_result"
        }
      ],
      "source": [
        "#P(P)\n",
        "P_prop = Prop['real estate']/N\n",
        "P_prop"
      ]
    },
    {
      "cell_type": "code",
      "execution_count": null,
      "id": "dc8df587",
      "metadata": {
        "id": "dc8df587",
        "outputId": "66af7d3a-2deb-4c22-acc5-6e8828c632bb"
      },
      "outputs": [
        {
          "data": {
            "text/plain": [
              "0.20106599999999997"
            ]
          },
          "execution_count": 22,
          "metadata": {},
          "output_type": "execute_result"
        }
      ],
      "source": [
        "#P(H)*P(P)\n",
        "P_house * P_prop"
      ]
    },
    {
      "cell_type": "code",
      "execution_count": null,
      "id": "4d8219c8",
      "metadata": {
        "id": "4d8219c8",
        "outputId": "55ba50da-69f6-4aed-b5f5-ed8665fe1683"
      },
      "outputs": [
        {
          "data": {
            "text/html": [
              "<div>\n",
              "<style scoped>\n",
              "    .dataframe tbody tr th:only-of-type {\n",
              "        vertical-align: middle;\n",
              "    }\n",
              "\n",
              "    .dataframe tbody tr th {\n",
              "        vertical-align: top;\n",
              "    }\n",
              "\n",
              "    .dataframe thead th {\n",
              "        text-align: right;\n",
              "    }\n",
              "</style>\n",
              "<table border=\"1\" class=\"dataframe\">\n",
              "  <thead>\n",
              "    <tr style=\"text-align: right;\">\n",
              "      <th>property</th>\n",
              "      <th>building society savings</th>\n",
              "      <th>other</th>\n",
              "      <th>real estate</th>\n",
              "      <th>unknown/none</th>\n",
              "    </tr>\n",
              "    <tr>\n",
              "      <th>housing</th>\n",
              "      <th></th>\n",
              "      <th></th>\n",
              "      <th></th>\n",
              "      <th></th>\n",
              "    </tr>\n",
              "  </thead>\n",
              "  <tbody>\n",
              "    <tr>\n",
              "      <th>for free</th>\n",
              "      <td>2</td>\n",
              "      <td>1</td>\n",
              "      <td>1</td>\n",
              "      <td>104</td>\n",
              "    </tr>\n",
              "    <tr>\n",
              "      <th>own</th>\n",
              "      <td>184</td>\n",
              "      <td>271</td>\n",
              "      <td>226</td>\n",
              "      <td>32</td>\n",
              "    </tr>\n",
              "    <tr>\n",
              "      <th>rent</th>\n",
              "      <td>46</td>\n",
              "      <td>60</td>\n",
              "      <td>55</td>\n",
              "      <td>18</td>\n",
              "    </tr>\n",
              "  </tbody>\n",
              "</table>\n",
              "</div>"
            ],
            "text/plain": [
              "property  building society savings  other  real estate  unknown/none\n",
              "housing                                                             \n",
              "for free                         2      1            1           104\n",
              "own                            184    271          226            32\n",
              "rent                            46     60           55            18"
            ]
          },
          "execution_count": 23,
          "metadata": {},
          "output_type": "execute_result"
        }
      ],
      "source": [
        "#P(H,P)\n",
        "\n",
        "#Tabla de contingencia: housing por property\n",
        "Tab_H_P = pd.crosstab(index=Credit_df['housing'], columns=Credit_df['property'])\n",
        "Tab_H_P"
      ]
    },
    {
      "cell_type": "code",
      "execution_count": null,
      "id": "c46e46eb",
      "metadata": {
        "id": "c46e46eb",
        "outputId": "8346cfc0-22f1-48d4-9470-5359201a9b7d"
      },
      "outputs": [
        {
          "data": {
            "text/html": [
              "<div>\n",
              "<style scoped>\n",
              "    .dataframe tbody tr th:only-of-type {\n",
              "        vertical-align: middle;\n",
              "    }\n",
              "\n",
              "    .dataframe tbody tr th {\n",
              "        vertical-align: top;\n",
              "    }\n",
              "\n",
              "    .dataframe thead th {\n",
              "        text-align: right;\n",
              "    }\n",
              "</style>\n",
              "<table border=\"1\" class=\"dataframe\">\n",
              "  <thead>\n",
              "    <tr style=\"text-align: right;\">\n",
              "      <th>property</th>\n",
              "      <th>building society savings</th>\n",
              "      <th>other</th>\n",
              "      <th>real estate</th>\n",
              "      <th>unknown/none</th>\n",
              "    </tr>\n",
              "    <tr>\n",
              "      <th>housing</th>\n",
              "      <th></th>\n",
              "      <th></th>\n",
              "      <th></th>\n",
              "      <th></th>\n",
              "    </tr>\n",
              "  </thead>\n",
              "  <tbody>\n",
              "    <tr>\n",
              "      <th>for free</th>\n",
              "      <td>0.002</td>\n",
              "      <td>0.001</td>\n",
              "      <td>0.001</td>\n",
              "      <td>0.104</td>\n",
              "    </tr>\n",
              "    <tr>\n",
              "      <th>own</th>\n",
              "      <td>0.184</td>\n",
              "      <td>0.271</td>\n",
              "      <td>0.226</td>\n",
              "      <td>0.032</td>\n",
              "    </tr>\n",
              "    <tr>\n",
              "      <th>rent</th>\n",
              "      <td>0.046</td>\n",
              "      <td>0.060</td>\n",
              "      <td>0.055</td>\n",
              "      <td>0.018</td>\n",
              "    </tr>\n",
              "  </tbody>\n",
              "</table>\n",
              "</div>"
            ],
            "text/plain": [
              "property  building society savings  other  real estate  unknown/none\n",
              "housing                                                             \n",
              "for free                     0.002  0.001        0.001         0.104\n",
              "own                          0.184  0.271        0.226         0.032\n",
              "rent                         0.046  0.060        0.055         0.018"
            ]
          },
          "execution_count": 24,
          "metadata": {},
          "output_type": "execute_result"
        }
      ],
      "source": [
        "Tab_H_P_frec = Tab_H_P/N\n",
        "Tab_H_P_frec"
      ]
    },
    {
      "cell_type": "code",
      "execution_count": null,
      "id": "51db8c8f",
      "metadata": {
        "id": "51db8c8f",
        "outputId": "aa5eb81d-177b-45b3-a3bc-5004474afde9"
      },
      "outputs": [
        {
          "data": {
            "text/plain": [
              "0.226"
            ]
          },
          "execution_count": 25,
          "metadata": {},
          "output_type": "execute_result"
        }
      ],
      "source": [
        "#Estoy comprobando para housing=own y property=real estate\n",
        "#P(H,P)\n",
        "Tab_H_P_frec.loc['own', 'real estate']"
      ]
    },
    {
      "cell_type": "markdown",
      "id": "bb53abdf",
      "metadata": {
        "id": "bb53abdf"
      },
      "source": [
        "**No** son independientes. \n",
        "Como es lógico imaginar, existe una dependencia entre el tipo de propriedad y el alojamiento.\n",
        "\n",
        "Otra manera de comprobarlo es mirar si $P(H|P) = P(H)$"
      ]
    },
    {
      "cell_type": "code",
      "execution_count": null,
      "id": "506a850e",
      "metadata": {
        "id": "506a850e",
        "outputId": "21f75cd8-4c9b-47ca-c32a-4b6c631a059c"
      },
      "outputs": [
        {
          "data": {
            "text/plain": [
              "0.8014184397163121"
            ]
          },
          "execution_count": 26,
          "metadata": {},
          "output_type": "execute_result"
        }
      ],
      "source": [
        "#P(H|P)=P(H,P)/P(P)\n",
        "\n",
        "P_HP = Tab_H_P_frec.loc['own', 'real estate']/P_prop\n",
        "P_HP"
      ]
    },
    {
      "cell_type": "code",
      "execution_count": null,
      "id": "b4bdce1a",
      "metadata": {
        "id": "b4bdce1a",
        "outputId": "7cf91f46-19c5-4471-8778-2d2f18b2b04e"
      },
      "outputs": [
        {
          "data": {
            "text/plain": [
              "0.713"
            ]
          },
          "execution_count": 27,
          "metadata": {},
          "output_type": "execute_result"
        }
      ],
      "source": [
        "#P(H)\n",
        "P_house"
      ]
    },
    {
      "cell_type": "code",
      "execution_count": null,
      "id": "e7020f27",
      "metadata": {
        "id": "e7020f27",
        "outputId": "698e0c2c-207b-4022-e306-6f49bed0956f"
      },
      "outputs": [
        {
          "data": {
            "text/plain": [
              "False"
            ]
          },
          "execution_count": 29,
          "metadata": {},
          "output_type": "execute_result"
        }
      ],
      "source": [
        "P_HP == P_house"
      ]
    },
    {
      "cell_type": "code",
      "execution_count": null,
      "id": "afe7d250",
      "metadata": {
        "id": "afe7d250"
      },
      "outputs": [],
      "source": [
        "#Puedo reafirmar que NO son independientes"
      ]
    }
  ],
  "metadata": {
    "kernelspec": {
      "display_name": "Python 3",
      "language": "python",
      "name": "python3"
    },
    "language_info": {
      "codemirror_mode": {
        "name": "ipython",
        "version": 3
      },
      "file_extension": ".py",
      "mimetype": "text/x-python",
      "name": "python",
      "nbconvert_exporter": "python",
      "pygments_lexer": "ipython3",
      "version": "3.8.8"
    },
    "colab": {
      "name": "Probabilidad_Credit.ipynb",
      "provenance": [],
      "collapsed_sections": []
    }
  },
  "nbformat": 4,
  "nbformat_minor": 5
}