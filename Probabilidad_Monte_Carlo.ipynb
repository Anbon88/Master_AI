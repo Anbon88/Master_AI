{
  "cells": [
    {
      "cell_type": "markdown",
      "metadata": {
        "id": "view-in-github",
        "colab_type": "text"
      },
      "source": [
        "<a href=\"https://colab.research.google.com/github/Anbon88/Master_AI/blob/main/Probabilidad_Monte_Carlo.ipynb\" target=\"_parent\"><img src=\"https://colab.research.google.com/assets/colab-badge.svg\" alt=\"Open In Colab\"/></a>"
      ]
    },
    {
      "cell_type": "markdown",
      "id": "eacd3f4d",
      "metadata": {
        "id": "eacd3f4d"
      },
      "source": [
        "<img src=\"logo-idal.png\" align=\"right\" style=\"float\" width=\"400\">\n",
        "<font color=\"#CA3532\"><h1 align=\"left\">mIA3</h1></font>\n",
        "<font color=\"#6E6E6E\"><h2 align=\"left\">Ejercicio 2. Probabilidad.</h2></font> \n",
        "\n",
        "#### Andrea Bonetti"
      ]
    },
    {
      "cell_type": "code",
      "execution_count": null,
      "id": "2677526e",
      "metadata": {
        "id": "2677526e"
      },
      "outputs": [],
      "source": [
        "import numpy as np\n",
        "import pandas as pd\n",
        "import matplotlib.pyplot as plt\n",
        "%matplotlib inline"
      ]
    },
    {
      "cell_type": "code",
      "execution_count": null,
      "id": "f878efd1",
      "metadata": {
        "id": "f878efd1"
      },
      "outputs": [],
      "source": [
        "#Implemento una función con un argumento para simular si quiero hacer 1 o más lanzamientos\n",
        "\n",
        "def juego(one_shot):\n",
        "    \"\"\"Calcula la probabilidad de ganar en el juego de dados Seven-Eleven\n",
        "    según si tiramos los dados una vez (one_shot=1) o más (one_shot=0)\"\"\"\n",
        "    D = np.arange(1,7) #posibles valores del lanzamientos de un dado (1,..,6)\n",
        "    D1 = np.random.choice(D, 1) #valor obtenido en dado 1\n",
        "    D2 = np.random.choice(D, 1) #valor obtenido en dado 2\n",
        "    Suma = D1 + D2 # valor total\n",
        "    \n",
        "    G = (7,11) #combinaciones ganadoras\n",
        "    P = (2,3,12) #combinaciones perdedoras\n",
        "    \n",
        "    \n",
        "    if (Suma in G):\n",
        "        Win=True #Gano\n",
        "    elif (Suma in P):\n",
        "        Win=False #Pierdo\n",
        "    else:                    # aquí tengo 2 posibilidades, \n",
        "        if (one_shot == 1):  # si es one_shot, pierdo\n",
        "            Win=False\n",
        "        else:                # si no vuelvo a lanzar los dados\n",
        "            Suma_s=0 #pongo un valor imposible para enrtrar en el loop\n",
        "            while ((Suma!=Suma_s) and (Suma_s!=7)):\n",
        "                D1_s = np.random.choice(D, 1) #valor obtenido en dado 1\n",
        "                D2_s = np.random.choice(D, 1) #valor obtenido en dado 2\n",
        "                Suma_s = D1_s + D2_s # valor total\n",
        "            \n",
        "            if (Suma==Suma_s):\n",
        "                Win=True\n",
        "            elif (Suma_s==7):\n",
        "                Win=False\n",
        "                \n",
        "    return(Win)\n",
        "            "
      ]
    },
    {
      "cell_type": "code",
      "execution_count": null,
      "id": "08de4d7b",
      "metadata": {
        "id": "08de4d7b",
        "outputId": "41b442f9-a342-4b57-9360-3862f05b6d38"
      },
      "outputs": [
        {
          "data": {
            "image/png": "[encoded data removed]",
            "text/plain": [
              "<Figure size 432x288 with 1 Axes>"
            ]
          },
          "metadata": {
            "needs_background": "light"
          },
          "output_type": "display_data"
        },
        {
          "name": "stdout",
          "output_type": "stream",
          "text": [
            "Gana un 22.20% de las veces\n"
          ]
        }
      ],
      "source": [
        "#Simulación con 1 tiro (one_shot=1) \n",
        "\n",
        "N = 100000\n",
        "ganados = [juego(1) for i in range(N)]\n",
        "p_ganar = np.sum(ganados) / N\n",
        "\n",
        "plt.plot(np.cumsum(ganados)*100/(np.arange(N)+1))\n",
        "plt.xlabel('Nº de intentos')\n",
        "plt.ylabel('% intentos ganados')\n",
        "plt.title('% de intentos ganados con 1 lanzamiento')\n",
        "plt.show()\n",
        "print(f'Gana un {p_ganar*100:.2f}% de las veces')"
      ]
    },
    {
      "cell_type": "markdown",
      "id": "3733b4ce",
      "metadata": {
        "id": "3733b4ce"
      },
      "source": [
        "#### El resultado de esta simulación, es decir, la probabilidad de ganar en la primera jugada al juego Seven-Eleven, coincide con el valor teórico de 22.22%, que había previamente calculado.\n",
        "\n",
        "$P(ganar) = P(7) + P(11) = \\frac{6}{36}+\\frac{2}{36} = \\frac{8}{36} = 0.2222 $ \n"
      ]
    },
    {
      "cell_type": "code",
      "execution_count": null,
      "id": "885efdae",
      "metadata": {
        "id": "885efdae",
        "outputId": "f4a05b6f-8ec1-440c-bd9b-9b587372dc80"
      },
      "outputs": [
        {
          "data": {
            "image/png": "[encoded data removed]",
            "text/plain": [
              "<Figure size 432x288 with 1 Axes>"
            ]
          },
          "metadata": {
            "needs_background": "light"
          },
          "output_type": "display_data"
        },
        {
          "name": "stdout",
          "output_type": "stream",
          "text": [
            "Gana un 49.18% de las veces\n"
          ]
        }
      ],
      "source": [
        "#Simulación con partida completa (one_shot=0)\n",
        "\n",
        "N = 10000\n",
        "ganados = [juego(0) for i in range(N)]\n",
        "p_ganar = np.sum(ganados) / N\n",
        "\n",
        "plt.plot(np.cumsum(ganados)*100/(np.arange(N)+1))\n",
        "plt.xlabel('Nº de intentos')\n",
        "plt.ylabel('% intentos ganados')\n",
        "plt.title('% de intentos ganados jugando una partida completa')\n",
        "plt.show()\n",
        "print(f'Gana un {p_ganar*100:.2f}% de las veces')"
      ]
    },
    {
      "cell_type": "markdown",
      "id": "cb2ac7de",
      "metadata": {
        "id": "cb2ac7de"
      },
      "source": [
        "#### El resultado de esta segunda simulación, coincide con la probabilidad de ganar jugando una partida completa al juego Seven-Eleven, lo que nos permite contestar a la segunda pregunta. \n",
        "#### Con una probabilidad igual a un 49.18% de ganar frente a la banca, puedo afirmar que este juego no es plenamente equitativo. Aumentando el número de intentos N, existe una ligera ventaja de la banca sobre el jugador. \n"
      ]
    },
    {
      "cell_type": "code",
      "execution_count": null,
      "id": "8ca9e417",
      "metadata": {
        "id": "8ca9e417"
      },
      "outputs": [],
      "source": [
        ""
      ]
    }
  ],
  "metadata": {
    "kernelspec": {
      "display_name": "Python 3",
      "language": "python",
      "name": "python3"
    },
    "language_info": {
      "codemirror_mode": {
        "name": "ipython",
        "version": 3
      },
      "file_extension": ".py",
      "mimetype": "text/x-python",
      "name": "python",
      "nbconvert_exporter": "python",
      "pygments_lexer": "ipython3",
      "version": "3.8.8"
    },
    "colab": {
      "name": "Probabilidad_Monte_Carlo.ipynb",
      "provenance": [],
      "include_colab_link": true
    }
  },
  "nbformat": 4,
  "nbformat_minor": 5
}